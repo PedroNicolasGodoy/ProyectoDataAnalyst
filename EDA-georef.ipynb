{
 "cells": [
  {
   "cell_type": "markdown",
   "metadata": {},
   "source": [
    "# Creamos un archivo con las provincias donde concetamos con API del Gobierno, para extraer los datos de \"Latidud\" y \"Longitud\"."
   ]
  },
  {
   "cell_type": "markdown",
   "metadata": {},
   "source": [
    "De esta manera lo podremos usar como PK para nuestro proyecto en BI"
   ]
  },
  {
   "cell_type": "code",
   "execution_count": 1,
   "metadata": {},
   "outputs": [],
   "source": [
    "import pandas as pd\n",
    "import requests"
   ]
  },
  {
   "cell_type": "code",
   "execution_count": 11,
   "metadata": {},
   "outputs": [
    {
     "name": "stdout",
     "output_type": "stream",
     "text": [
      "Index(['id', 'Localidad/Departamento', 'Provincia', 'Latitud', 'Longitud'], dtype='object')\n",
      "El archivo enriquecido ha sido guardado en C:/Users/Pedro/Desktop/ingreso_percapita_argentina_localidades_reales_2010_2024_enriquecido.csv\n"
     ]
    }
   ],
   "source": [
    "\n",
    "\n",
    "# Cargar el archivo original\n",
    "file_path = 'C:/Users/Pedro/Desktop/ingreso_percapita_argentina_localidades_reales_2010_2024.csv'\n",
    "data = pd.read_csv(file_path)\n",
    "\n",
    "# Obtener el listado completo de localidades y departamentos desde la API de Georef\n",
    "def obtener_localidades_completas():\n",
    "    url = 'https://apis.datos.gob.ar/georef/api/localidades?campos=id,nombre,provincia.nombre,centroide.lat,centroide.lon&max=5000'\n",
    "    response = requests.get(url)\n",
    "    if response.status_code == 200:\n",
    "        datos = response.json()\n",
    "        localidades = datos.get('localidades', [])\n",
    "        return localidades\n",
    "    return []\n",
    "\n",
    "# Convertir el listado de localidades en un DataFrame\n",
    "localidades_completas = obtener_localidades_completas()\n",
    "df_localidades_completas = pd.DataFrame(localidades_completas)\n",
    "\n",
    "# Separar las coordenadas del centroide en latitud y longitud\n",
    "df_localidades_completas['Latitud'] = df_localidades_completas['centroide'].apply(lambda x: x['lat'] if pd.notnull(x) else None)\n",
    "df_localidades_completas['Longitud'] = df_localidades_completas['centroide'].apply(lambda x: x['lon'] if pd.notnull(x) else None)\n",
    "\n",
    "# Renombrar columnas para que coincidan con el archivo original\n",
    "df_localidades_completas.rename(columns={\n",
    "    'nombre': 'Localidad/Departamento',\n",
    "    'provincia': 'Provincia'\n",
    "}, inplace=True)\n",
    "\n",
    "# Eliminar la columna 'centroide' ya que hemos separado latitud y longitud\n",
    "df_localidades_completas.drop(columns=['centroide'], inplace=True)\n",
    "\n",
    "# Verificar si las columnas renombradas existen en el DataFrame\n",
    "print(df_localidades_completas.columns)\n",
    "\n",
    "# Identificar las localidades/departamentos faltantes\n",
    "df_faltantes = df_localidades_completas[~df_localidades_completas[['Provincia', 'Localidad/Departamento']].apply(tuple, axis=1).isin(data[['Provincia', 'Localidad/Departamento']].apply(tuple, axis=1))]\n",
    "\n",
    "# Agregar las localidades/departamentos faltantes al archivo original\n",
    "data_enriquecido = pd.concat([data, df_faltantes], ignore_index=True)\n",
    "\n",
    "# Guardar el nuevo archivo\n",
    "output_path = 'C:/Users/Pedro/Desktop/ingreso_percapita_argentina_localidades_reales_2010_2024_enriquecido.csv'\n",
    "data_enriquecido.to_csv(output_path, index=False)\n",
    "\n",
    "print(f\"El archivo enriquecido ha sido guardado en {output_path}\")"
   ]
  },
  {
   "cell_type": "code",
   "execution_count": 4,
   "metadata": {},
   "outputs": [
    {
     "name": "stdout",
     "output_type": "stream",
     "text": [
      "['centroide', 'id', 'Localidad/Departamento', 'provincia']\n"
     ]
    }
   ],
   "source": [
    "\n",
    "print(df_localidades_completas.columns.tolist())\n"
   ]
  }
 ],
 "metadata": {
  "kernelspec": {
   "display_name": "Python 3",
   "language": "python",
   "name": "python3"
  },
  "language_info": {
   "codemirror_mode": {
    "name": "ipython",
    "version": 3
   },
   "file_extension": ".py",
   "mimetype": "text/x-python",
   "name": "python",
   "nbconvert_exporter": "python",
   "pygments_lexer": "ipython3",
   "version": "3.12.4"
  }
 },
 "nbformat": 4,
 "nbformat_minor": 2
}
